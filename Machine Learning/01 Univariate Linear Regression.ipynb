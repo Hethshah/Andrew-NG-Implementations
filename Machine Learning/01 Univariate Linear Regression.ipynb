{
 "cells": [
  {
   "cell_type": "markdown",
   "id": "187a36d3-75e5-4b2e-a746-90f1deb11023",
   "metadata": {},
   "source": [
    "# Implementing Linear Regression:\n",
    "## Here we connect two datapoints with line Using Linear Regression This Line will be the best fit to connect two datapoints\n",
    "#### Compute Module Output --> Compute Cost --> Compute Gradient --> Perform Gradient Descent"
   ]
  },
  {
   "cell_type": "code",
   "execution_count": 185,
   "id": "ea4d3428-0d42-4cde-8974-05577262eb55",
   "metadata": {},
   "outputs": [],
   "source": [
    "import numpy as np\n",
    "import matplotlib.pyplot as plt\n",
    "from matplotlib import cm, ticker"
   ]
  },
  {
   "cell_type": "code",
   "execution_count": 186,
   "id": "e498aada-52d5-436d-a388-f41e4cfbdf73",
   "metadata": {},
   "outputs": [],
   "source": [
    "x_train = np.array([1, 2])\n",
    "y_train = np.array([300, 500])\n",
    "w, b = 100, 100 #default parameter"
   ]
  },
  {
   "cell_type": "code",
   "execution_count": 187,
   "id": "7c921918-2097-46f5-93dd-88423e800bb5",
   "metadata": {},
   "outputs": [
    {
     "data": {
      "text/plain": [
       "Text(0.5, 1.0, 'Plotting Datapoints')"
      ]
     },
     "execution_count": 187,
     "metadata": {},
     "output_type": "execute_result"
    },
    {
     "data": {
      "image/png": "[encoded data removed]",
      "text/plain": [
       "<Figure size 432x288 with 1 Axes>"
      ]
     },
     "metadata": {
      "needs_background": "light"
     },
     "output_type": "display_data"
    }
   ],
   "source": [
    "#Plotting the Datapoints\n",
    "plt.scatter(x_train, y_train)\n",
    "plt.title(\"Plotting Datapoints\")"
   ]
  },
  {
   "cell_type": "markdown",
   "id": "5f24f018-1893-4194-9436-d968be9662c9",
   "metadata": {},
   "source": [
    "# 1. Compute Model Output Function"
   ]
  },
  {
   "cell_type": "code",
   "execution_count": 188,
   "id": "c207d2f9-1605-4a89-b28b-4672c40c26b4",
   "metadata": {},
   "outputs": [
    {
     "name": "stdout",
     "output_type": "stream",
     "text": [
      "Initially Computed Output with Default parameter value: [200 300]\n",
      "Actual Output: [300 500]\n"
     ]
    }
   ],
   "source": [
    "#Creating Compute function with default parameter value w = 100, b = 100\n",
    "def compute_model_output(x, w  = 100, b = 100):\n",
    "    f_wb = np.dot(w,x) + b\n",
    "    return f_wb\n",
    "print(f'Initially Computed Output with Default parameter value: {compute_model_output(x_train)}')\n",
    "print(f'Actual Output: {y_train}')"
   ]
  },
  {
   "cell_type": "code",
   "execution_count": 189,
   "id": "d6fb0a6c-317b-4eaa-a024-0cb9b8dd7c59",
   "metadata": {},
   "outputs": [
    {
     "data": {
      "image/png": "[encoded data removed]",
      "text/plain": [
       "<Figure size 432x288 with 1 Axes>"
      ]
     },
     "metadata": {
      "needs_background": "light"
     },
     "output_type": "display_data"
    }
   ],
   "source": [
    "#Plotting graph with default parameter\n",
    "plt.scatter(x_train, y_train)\n",
    "plt.plot(x_train, compute_model_output(x_train))\n",
    "plt.title(\"Plotting Line with Default Parameters\")\n",
    "plt.show()"
   ]
  },
  {
   "cell_type": "markdown",
   "id": "8fcebc1d-2664-473b-941e-e7f591125e27",
   "metadata": {},
   "source": [
    "# 2. Computing the Cost Function"
   ]
  },
  {
   "cell_type": "markdown",
   "id": "6588ca57-fcff-40eb-b16b-e998f9217eac",
   "metadata": {},
   "source": [
    "The term 'cost' in this assignment might be a little confusing since the data is housing cost. Here, cost is a measure how well our model is predicting the target price of the house. The term 'price' is used for housing data.\n",
    "\n",
    "The equation for cost with one variable is:\n",
    "  $$J(w,b) = \\frac{1}{2m} \\sum\\limits_{i = 0}^{m-1} (f_{w,b}(x^{(i)}) - y^{(i)})^2 \\tag{1}$$ \n",
    " \n",
    "where \n",
    "  $$f_{w,b}(x^{(i)}) = wx^{(i)} + b \\tag{2}$$\n",
    "  \n",
    "- $f_{w,b}(x^{(i)})$ is our prediction for example $i$ using parameters $w,b$.  \n",
    "- $(f_{w,b}(x^{(i)}) -y^{(i)})^2$ is the squared difference between the target value and the prediction.   \n",
    "- These differences are summed over all the $m$ examples and divided by `2m` to produce the cost, $J(w,b)$.  \n",
    ">Note, in lecture summation ranges are typically from 1 to m, while code will be from 0 to m-1.\n"
   ]
  },
  {
   "cell_type": "code",
   "execution_count": 190,
   "id": "008e441d-40d7-41bf-96b7-ca553b408ca2",
   "metadata": {},
   "outputs": [
    {
     "name": "stdout",
     "output_type": "stream",
     "text": [
      "Initially Computed Cost with Default parameter value: 12500.0\n"
     ]
    }
   ],
   "source": [
    "def compute_cost(x, y, w, b):\n",
    "    m = x.shape[0]\n",
    "    y_hat = compute_model_output(x, w, b)\n",
    "    cost = (y_hat - y)**2\n",
    "    cost_sum = cost.sum()/(2*m)\n",
    "    return cost_sum\n",
    "\n",
    "print(f'Initially Computed Cost with Default parameter value: {compute_cost(x_train, y_train, w, b)}')"
   ]
  },
  {
   "cell_type": "markdown",
   "id": "b2e726f1-f042-48fd-85fa-add72f091d81",
   "metadata": {},
   "source": [
    "# 3. Computing Gradient"
   ]
  },
  {
   "cell_type": "markdown",
   "id": "69f7f53d-237b-4688-87f1-2345d2651b0a",
   "metadata": {},
   "source": [
    "\n",
    "In lecture, *gradient descent* was described as:\n",
    "\n",
    "$$\\begin{align*} \\text{repeat}&\\text{ until convergence:} \\; \\lbrace \\newline\n",
    "\\;  w &= w -  \\alpha \\frac{\\partial J(w,b)}{\\partial w} \\tag{3}  \\; \\newline \n",
    " b &= b -  \\alpha \\frac{\\partial J(w,b)}{\\partial b}  \\newline \\rbrace\n",
    "\\end{align*}$$\n",
    "where, parameters $w$, $b$ are updated simultaneously.  \n",
    "The gradient is defined as:\n",
    "$$\n",
    "\\begin{align}\n",
    "\\frac{\\partial J(w,b)}{\\partial w}  &= \\frac{1}{m} \\sum\\limits_{i = 0}^{m-1} (f_{w,b}(x^{(i)}) - y^{(i)})x^{(i)} \\tag{4}\\\\\n",
    "  \\frac{\\partial J(w,b)}{\\partial b}  &= \\frac{1}{m} \\sum\\limits_{i = 0}^{m-1} (f_{w,b}(x^{(i)}) - y^{(i)}) \\tag{5}\\\\\n",
    "\\end{align}\n",
    "$$\n",
    "\n",
    "Here *simultaniously* means that you calculate the partial derivatives for all the parameters before updating any of the parameters."
   ]
  },
  {
   "cell_type": "code",
   "execution_count": 191,
   "id": "eccc4290-7f54-403f-b8a1-41ee0aad6045",
   "metadata": {},
   "outputs": [
    {
     "name": "stdout",
     "output_type": "stream",
     "text": [
      "Initially Computed Gradient with Default parameter value: (-250.0, -150.0)\n"
     ]
    }
   ],
   "source": [
    "def compute_gradient(x, y, w = 100, b = 100):\n",
    "    m = x.shape[0]\n",
    "    y_hat = compute_model_output(x, w, b)\n",
    "    dJ_dw = ((y_hat - y)*(x/m)).sum()\n",
    "    dJ_db = ((y_hat - y)*(1/m)).sum()\n",
    "    return dJ_dw, dJ_db\n",
    "\n",
    "print(f'Initially Computed Gradient with Default parameter value: {compute_gradient(x_train, y_train, w = 100, b = 100)}')"
   ]
  },
  {
   "cell_type": "markdown",
   "id": "edbe4501-016d-4a4c-b97a-befe7623f4ff",
   "metadata": {},
   "source": [
    "# 4. Compute Gradient Descent"
   ]
  },
  {
   "cell_type": "code",
   "execution_count": 192,
   "id": "aabf392a-4316-45d0-94a4-de2773b10dca",
   "metadata": {},
   "outputs": [],
   "source": [
    "def compute_gradient_descent(x, y, w_in, b_in, alpha = 0.01, iterations = 10000, record_history = 1000, stop_threshold = 0.0001):\n",
    "    \n",
    "    w_in, b_in = w, b\n",
    "    iter_no = []\n",
    "    w_update = []\n",
    "    b_update = []\n",
    "    cost_update = []\n",
    "        \n",
    "    \n",
    "    for i in range(iterations):\n",
    "        if i%record_history == 0:\n",
    "            iter_no.append(i)\n",
    "            w_update.append(w_in)\n",
    "            b_update.append(b_in)\n",
    "            cost_update.append(compute_cost(x, y, w_in, b_in)) \n",
    "        dJ_dw, dJ_db = compute_gradient(x, y, w_in, b_in)\n",
    "        w_before, b_before = w_in, b_in\n",
    "        w_in -= alpha*(dJ_dw)\n",
    "        b_in -= alpha*(dJ_db)\n",
    "        if np.abs(w_before - w_in) < stop_threshold and np.abs(b_before - b_in) < stop_threshold:\n",
    "            print(f'Stop at Iteration No. {i}')\n",
    "            break\n",
    "            \n",
    "    return w_in, b_in, iter_no, w_update, b_update, cost_update\n",
    "\n"
   ]
  },
  {
   "cell_type": "code",
   "execution_count": 193,
   "id": "3ffefae1-3200-44a3-a502-cb16d767a90c",
   "metadata": {},
   "outputs": [
    {
     "name": "stdout",
     "output_type": "stream",
     "text": [
      "The initial default parameters are w: 100 and b: 100\n",
      "Stop at Iteration No. 7931\n",
      "After Trained Model parameters are w: 199.91534644468604 and b: 100.13697232976644\n"
     ]
    }
   ],
   "source": [
    "print(f'The initial default parameters are w: {w} and b: {b}')\n",
    "w_trained, b_trained, iter_no, w_update, b_update, cost_update = compute_gradient_descent(x_train, y_train, w, b, alpha = 0.01, iterations = 10000, stop_threshold = 0.0001)\n",
    "print(f'After Trained Model parameters are w: {w_trained} and b: {b_trained}')"
   ]
  },
  {
   "cell_type": "markdown",
   "id": "97988d18-ae8e-47d8-97c3-fbf14fcb2035",
   "metadata": {},
   "source": [
    "### Plotting Final Line Fit Output"
   ]
  },
  {
   "cell_type": "code",
   "execution_count": 194,
   "id": "6104a757-6ef0-4b61-b393-a62f7ae37df7",
   "metadata": {},
   "outputs": [
    {
     "data": {
      "image/png": "[encoded data removed]",
      "text/plain": [
       "<Figure size 432x288 with 1 Axes>"
      ]
     },
     "metadata": {
      "needs_background": "light"
     },
     "output_type": "display_data"
    }
   ],
   "source": [
    "plt.scatter(x_train, y_train)\n",
    "plt.plot(x_train, compute_model_output(x_train, w_new, b_new))\n",
    "plt.title(\"Plotting Line with Trained Parameters\")\n",
    "plt.show()"
   ]
  },
  {
   "cell_type": "markdown",
   "id": "4a17c7f1-ec0a-46fd-86c9-7cd9554d5c9a",
   "metadata": {},
   "source": [
    "### Plotting Cost vs iterations "
   ]
  },
  {
   "cell_type": "code",
   "execution_count": 195,
   "id": "0d5dac78-5412-4ce4-8123-5d6280717a6f",
   "metadata": {},
   "outputs": [
    {
     "data": {
      "image/png": "[encoded data removed]",
      "text/plain": [
       "<Figure size 432x288 with 1 Axes>"
      ]
     },
     "metadata": {
      "needs_background": "light"
     },
     "output_type": "display_data"
    }
   ],
   "source": [
    "plt.plot(iter_no, cost_update)\n",
    "plt.title(\"Cost vs Iterations\")\n",
    "plt.show()"
   ]
  }
 ],
 "metadata": {
  "kernelspec": {
   "display_name": "Python 3 (ipykernel)",
   "language": "python",
   "name": "python3"
  },
  "language_info": {
   "codemirror_mode": {
    "name": "ipython",
    "version": 3
   },
   "file_extension": ".py",
   "mimetype": "text/x-python",
   "name": "python",
   "nbconvert_exporter": "python",
   "pygments_lexer": "ipython3",
   "version": "3.9.12"
  }
 },
 "nbformat": 4,
 "nbformat_minor": 5
}
